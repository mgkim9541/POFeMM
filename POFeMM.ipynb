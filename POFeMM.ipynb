{
 "cells": [
  {
   "cell_type": "code",
   "execution_count": 1,
   "metadata": {},
   "outputs": [],
   "source": [
    "import pandas as pd\n",
    "import string\n",
    "import re\n",
    "from nltk.stem.porter import *\n",
    "stemmer = PorterStemmer()\n",
    "import nltk\n",
    "from nltk.corpus import stopwords\n",
    "from nltk import sent_tokenize, word_tokenize\n",
    "from nltk.tokenize import ToktokTokenizer\n",
    "from nltk.sentiment.vader import SentimentIntensityAnalyzer\n",
    "from collections import defaultdict\n",
    "import warnings\n",
    "warnings.filterwarnings('ignore')"
   ]
  },
  {
   "cell_type": "code",
   "execution_count": 2,
   "metadata": {},
   "outputs": [
    {
     "data": {
      "text/plain": [
       "Index(['id', 'host_about'], dtype='object')"
      ]
     },
     "execution_count": 2,
     "metadata": {},
     "output_type": "execute_result"
    }
   ],
   "source": [
    "df1 = pd.read_csv(\"pofmem_examples.csv\",encoding='latin')\n",
    "df1.columns"
   ]
  },
  {
   "cell_type": "markdown",
   "metadata": {},
   "source": [
    "# Text Cleansing"
   ]
  },
  {
   "cell_type": "code",
   "execution_count": 3,
   "metadata": {},
   "outputs": [
    {
     "data": {
      "text/html": [
       "<div>\n",
       "<style scoped>\n",
       "    .dataframe tbody tr th:only-of-type {\n",
       "        vertical-align: middle;\n",
       "    }\n",
       "\n",
       "    .dataframe tbody tr th {\n",
       "        vertical-align: top;\n",
       "    }\n",
       "\n",
       "    .dataframe thead th {\n",
       "        text-align: right;\n",
       "    }\n",
       "</style>\n",
       "<table border=\"1\" class=\"dataframe\">\n",
       "  <thead>\n",
       "    <tr style=\"text-align: right;\">\n",
       "      <th></th>\n",
       "      <th>id</th>\n",
       "      <th>host_about</th>\n",
       "    </tr>\n",
       "  </thead>\n",
       "  <tbody>\n",
       "    <tr>\n",
       "      <th>0</th>\n",
       "      <td>0.0</td>\n",
       "      <td>I would describe myself as a very determined a...</td>\n",
       "    </tr>\n",
       "    <tr>\n",
       "      <th>1</th>\n",
       "      <td>0.0</td>\n",
       "      <td>T&amp;A Real Estate has adopted the principle of g...</td>\n",
       "    </tr>\n",
       "    <tr>\n",
       "      <th>2</th>\n",
       "      <td>0.0</td>\n",
       "      <td>Hello We live in Soho and love it here -  Brit...</td>\n",
       "    </tr>\n",
       "    <tr>\n",
       "      <th>3</th>\n",
       "      <td>0.0</td>\n",
       "      <td>A lover of the outdoors. I enjoy kayaking, hik...</td>\n",
       "    </tr>\n",
       "    <tr>\n",
       "      <th>4</th>\n",
       "      <td>0.0</td>\n",
       "      <td>Hello everyone and an advance welcome to Hong ...</td>\n",
       "    </tr>\n",
       "  </tbody>\n",
       "</table>\n",
       "</div>"
      ],
      "text/plain": [
       "    id                                         host_about\n",
       "0  0.0  I would describe myself as a very determined a...\n",
       "1  0.0  T&A Real Estate has adopted the principle of g...\n",
       "2  0.0  Hello We live in Soho and love it here -  Brit...\n",
       "3  0.0  A lover of the outdoors. I enjoy kayaking, hik...\n",
       "4  0.0  Hello everyone and an advance welcome to Hong ..."
      ]
     },
     "execution_count": 3,
     "metadata": {},
     "output_type": "execute_result"
    }
   ],
   "source": [
    "df1['host_about'] = df1.host_about.astype(str)\n",
    "lines = df1['host_about'].values.tolist()\n",
    "df1.head()"
   ]
  },
  {
   "cell_type": "code",
   "execution_count": 4,
   "metadata": {},
   "outputs": [],
   "source": [
    "# function to clean text\n",
    "def review_to_words(txt):\n",
    "    cleaned_txt = re.sub(\"[^a-zA-Z\\.\\!\\?\\n]\", \" \", txt)\n",
    "    words = cleaned_txt.lower().split()\n",
    "    return( \" \".join( words ))"
   ]
  },
  {
   "cell_type": "code",
   "execution_count": 5,
   "metadata": {},
   "outputs": [
    {
     "data": {
      "text/html": [
       "<div>\n",
       "<style scoped>\n",
       "    .dataframe tbody tr th:only-of-type {\n",
       "        vertical-align: middle;\n",
       "    }\n",
       "\n",
       "    .dataframe tbody tr th {\n",
       "        vertical-align: top;\n",
       "    }\n",
       "\n",
       "    .dataframe thead th {\n",
       "        text-align: right;\n",
       "    }\n",
       "</style>\n",
       "<table border=\"1\" class=\"dataframe\">\n",
       "  <thead>\n",
       "    <tr style=\"text-align: right;\">\n",
       "      <th></th>\n",
       "      <th>id</th>\n",
       "      <th>host_about</th>\n",
       "      <th>clean_description</th>\n",
       "    </tr>\n",
       "  </thead>\n",
       "  <tbody>\n",
       "    <tr>\n",
       "      <th>0</th>\n",
       "      <td>0.0</td>\n",
       "      <td>I would describe myself as a very determined a...</td>\n",
       "      <td>i would describe myself as a very determined a...</td>\n",
       "    </tr>\n",
       "    <tr>\n",
       "      <th>1</th>\n",
       "      <td>0.0</td>\n",
       "      <td>T&amp;A Real Estate has adopted the principle of g...</td>\n",
       "      <td>t a real estate has adopted the principle of g...</td>\n",
       "    </tr>\n",
       "    <tr>\n",
       "      <th>2</th>\n",
       "      <td>0.0</td>\n",
       "      <td>Hello We live in Soho and love it here -  Brit...</td>\n",
       "      <td>hello we live in soho and love it here british...</td>\n",
       "    </tr>\n",
       "    <tr>\n",
       "      <th>3</th>\n",
       "      <td>0.0</td>\n",
       "      <td>A lover of the outdoors. I enjoy kayaking, hik...</td>\n",
       "      <td>a lover of the outdoors. i enjoy kayaking hiki...</td>\n",
       "    </tr>\n",
       "    <tr>\n",
       "      <th>4</th>\n",
       "      <td>0.0</td>\n",
       "      <td>Hello everyone and an advance welcome to Hong ...</td>\n",
       "      <td>hello everyone and an advance welcome to hong ...</td>\n",
       "    </tr>\n",
       "  </tbody>\n",
       "</table>\n",
       "</div>"
      ],
      "text/plain": [
       "    id                                         host_about  \\\n",
       "0  0.0  I would describe myself as a very determined a...   \n",
       "1  0.0  T&A Real Estate has adopted the principle of g...   \n",
       "2  0.0  Hello We live in Soho and love it here -  Brit...   \n",
       "3  0.0  A lover of the outdoors. I enjoy kayaking, hik...   \n",
       "4  0.0  Hello everyone and an advance welcome to Hong ...   \n",
       "\n",
       "                                   clean_description  \n",
       "0  i would describe myself as a very determined a...  \n",
       "1  t a real estate has adopted the principle of g...  \n",
       "2  hello we live in soho and love it here british...  \n",
       "3  a lover of the outdoors. i enjoy kayaking hiki...  \n",
       "4  hello everyone and an advance welcome to hong ...  "
      ]
     },
     "execution_count": 5,
     "metadata": {},
     "output_type": "execute_result"
    }
   ],
   "source": [
    "df1['clean_description'] = [review_to_words(text) for text in df1['host_about']]\n",
    "df1.head()"
   ]
  },
  {
   "cell_type": "code",
   "execution_count": 6,
   "metadata": {
    "scrolled": true
   },
   "outputs": [],
   "source": [
    "# plot_model(lda, plot='topic_model')"
   ]
  },
  {
   "cell_type": "markdown",
   "metadata": {},
   "source": [
    "# PofMeM"
   ]
  },
  {
   "cell_type": "code",
   "execution_count": 7,
   "metadata": {},
   "outputs": [
    {
     "name": "stderr",
     "output_type": "stream",
     "text": [
      "Some weights of RobertaModel were not initialized from the model checkpoint at siebert/sentiment-roberta-large-english and are newly initialized: ['roberta.pooler.dense.weight', 'roberta.pooler.dense.bias']\n",
      "You should probably TRAIN this model on a down-stream task to be able to use it for predictions and inference.\n"
     ]
    }
   ],
   "source": [
    "from transformers import pipeline\n",
    "#### siebert/sentiment-roberta-large-english\n",
    "sentiment_analysis = pipeline(\"sentiment-analysis\",model=\"siebert/sentiment-roberta-large-english\")\n",
    "\n",
    "#### cardiffnlp/twitter-xlm-roberta-base-sentiment\n",
    "# model_path = \"cardiffnlp/twitter-xlm-roberta-base-sentiment\"\n",
    "# sentiment_analysis = pipeline(\"sentiment-analysis\", model=model_path, tokenizer=model_path)"
   ]
  },
  {
   "cell_type": "code",
   "execution_count": 8,
   "metadata": {},
   "outputs": [
    {
     "data": {
      "text/plain": [
       "0    i would describe myself as a very determined a...\n",
       "1    t a real estate has adopted the principle of g...\n",
       "2    hello we live in soho and love it here british...\n",
       "3    a lover of the outdoors. i enjoy kayaking hiki...\n",
       "4    hello everyone and an advance welcome to hong ...\n",
       "Name: clean_description, dtype: object"
      ]
     },
     "execution_count": 8,
     "metadata": {},
     "output_type": "execute_result"
    }
   ],
   "source": [
    "doc = df1['clean_description']\n",
    "doc.head()"
   ]
  },
  {
   "cell_type": "code",
   "execution_count": 9,
   "metadata": {},
   "outputs": [],
   "source": [
    "topic_dict={'Topic1':{'Words':{\"people\",\"meet\",\"world\",\"culture\",\"different\",\"enjoy\",\"meeting\",\"place\",\"live\",\"experience\",\"explore\",\"host\",\"work\",\"learn\",\"country\",\"currently\",\"life\",\"share\",\"food\",\"interesting\",\"passion\",\"discover\",\"always\",\"see\",\"professional\",\"look\",\"adventure\",\"traveler\",\"passionate\",\"medium\"}}\n",
    ",'Topic2':{'Words':{\"happy\",\"help\",\"always\",\"make\",\"good\",\"need\",\"know\",\"guest\",\"try\",\"give\",\"tidy\",\"thing\",\"well\",\"chat\",\"host\",\"time\",\"recommendation\",\"privacy\",\"friendly\",\"keep\",\"work\",\"let\",\"may\",\"also\",\"get\",\"talk\",\"want\",\"day\",\"enjoyable\",\"ask\"}}\n",
    ",'Topic3':{'Words':{\"restaurant\",\"walk\",\"area\",\"room\",\"apartment\",\"cafe\",\"close\",\"bar\",\"minute\",\"shop\",\"local\",\"away\",\"offer\",\"also\",\"park\",\"coffee\",\"location\",\"beach\",\"beautiful\",\"quiet\",\"great\",\"space\",\"private\",\"house\",\"access\",\"comfort\",\"living\",\"night\",\"locate\",\"neighborhood\"}}\n",
    ",'Topic4':{'Words':{\"friendly\",\"easy\",\"go\",\"person\",\"clean\",\"respectful\",\"people\",\"life\",\"guy\",\"treat\",\"quiet\",\"fun\",\"professional\",\"outgoing\",\"respect\",\"would\",\"like\",\"enjoy\",\"responsible\",\"keep\",\"couple\",\"lifestyle\",\"active\",\"healthy\",\"kind\",\"care\",\"happy\",\"nice\",\"young\",\"always\"}}\n",
    ",'Deontology':{'Words':{\"duty\",\"duties\",\"responsibilit\",\"banned\",\"taboo\",\"allowed\",\"calling\",\"authoriz\",\"permitted\",\"commitment\",\"contract\",\"dues\",\"mission\",\"obligat\",\"role\",\"task\",\"tasks\",\"accountab\",\"requirement\",\"rights\",\"required\",\"necessary\",\"compulsory\",\"demanded\",\"mandatory\",\"vital\",\"obey\",\"adher\",\"comply\",\"complies\",\"complied\",\"complying\",\"disobey\",\"forbidden\",\"prohibited\",\"code\",\"codes\",\"transgress\",\"sanctioned\",\"acceptable\",\"violat\",\"principle\",\"standards\",\"rule\",\"rules\",\"command\",\"fundamental\",\"guideline\",\"law\",\"maxim\",\"proscription\",\"proscribe\",\"prescription\",\"prescribe\",\"regulation\",\"ruling\",\"tenet\",\"etiquette\",\"convention\",\"custom\",\"norm\",\"practice\",\"doctrine\"}}\n",
    ",'Consequentialism':{'Words':{\"result\",\"profit\",\"outcome\",\"consequen\",\"effects\",\"effect\",\"repercussion\",\"prosper\",\"utilit\",\"welfare\",\"wealth\",\"suffer\",\"pain\",\"painful\",\"pains\",\"pained\",\"happiness\",\"health\",\"interests\",\"flourish\",\"success\",\"successes\",\"pleasure\",\"well-being\",\"benefi\",\"advantage\",\"maximi\",\"gain\",\"loss\"}}\n",
    "}\n"
   ]
  },
  {
   "cell_type": "code",
   "execution_count": 10,
   "metadata": {},
   "outputs": [],
   "source": [
    "Topiclist = ['Topic1', 'Topic2', 'Topic3', 'Topic4', 'Deontology', 'Consequentialism']"
   ]
  },
  {
   "cell_type": "code",
   "execution_count": 11,
   "metadata": {},
   "outputs": [],
   "source": [
    "def pofMeM(document):\n",
    "    df_FM = pd.DataFrame(columns=Topiclist)\n",
    "    df_TS = pd.DataFrame(columns=Topiclist)\n",
    "    df_TS_freq_pos  = pd.DataFrame(columns=Topiclist)\n",
    "    df_TS_freq_neg  = pd.DataFrame(columns=Topiclist)\n",
    "    for i in range(len(document)):\n",
    "        try:\n",
    "            f = document[i]\n",
    "            lines =[]\n",
    "            lines = re.split('\\.\\s|\\?|\\!',f)\n",
    "            fs = {}\n",
    "            ts = {}\n",
    "            tsp= {}\n",
    "            tsn= {}\n",
    "            for tp in Topiclist:\n",
    "                words = topic_dict[tp]['Words']\n",
    "                total = 0\n",
    "                count = defaultdict(lambda: 0)\n",
    "                for word in re.sub(r'[^\\w\\s]', '', f).split(' '):\n",
    "                    total += 1\n",
    "                    if any(keyword in word for keyword in words):\n",
    "                        count[tp] += 1\n",
    "\n",
    "                topic_include_sentences = []\n",
    "                pos= 0\n",
    "                neg= 0\n",
    "                for each_line in lines:\n",
    "                    try:\n",
    "                        if any(keyword in each_line for keyword in words):\n",
    "                            topic_include_sentences.append(each_line)\n",
    "                            if topic_include_sentences !=[]:\n",
    "                                topic_include_sentences = topic_include_sentences[:512]\n",
    "                                if(sentiment_analysis(each_line)[0]['label'].lower()==\"negative\"): neg += 1\n",
    "                                else:pos += 1\n",
    "                        else:\n",
    "                            pass\n",
    "                    except Exception as ex:\n",
    "                        print(ex)   \n",
    "                if topic_include_sentences ==[]:\n",
    "                    fs[tp] = None\n",
    "                    ts[tp] = None\n",
    "                    tsp[tp] = pos\n",
    "                    tsn[tp] = neg\n",
    "                else:\n",
    "                    sent = sentiment_analysis(\". \".join(topic_include_sentences))\n",
    "                    if(sent[0]['label'].lower()==\"negative\"): value = sent[0]['score']*-1\n",
    "                    else:value = sent[0]['score']*1\n",
    "                    ts[tp] = value\n",
    "                    tsp[tp] = pos\n",
    "                    tsn[tp] = neg\n",
    "                    fs[tp] = count[tp]*100*value/total\n",
    "                    print(f'Feature:[{tp}]\\nScore: [{round(fs[tp],3)}]\\n #of positive sentences:{pos}\\n #of negative sentences:{neg} \\nSentences:{topic_include_sentences}\\n\\n')\n",
    "            df_FM = df_FM.append(fs, ignore_index = True)\n",
    "            df_TS = df_TS.append(ts, ignore_index = True)\n",
    "            df_TS_freq_pos = df_TS_freq_pos.append(tsp, ignore_index = True)\n",
    "            df_TS_freq_neg = df_TS_freq_neg.append(tsn, ignore_index = True)\n",
    "            print(\"\\r\", \"Progress {:2.4%}\".format((i+1) / len(document)), end=\"\" + '\\n\\n\\n\\n')\n",
    "        except Exception as ex:\n",
    "            print(ex)   \n",
    "    return df_FM, df_TS, df_TS_freq_pos, df_TS_freq_neg"
   ]
  },
  {
   "cell_type": "code",
   "execution_count": 12,
   "metadata": {
    "scrolled": false
   },
   "outputs": [
    {
     "name": "stdout",
     "output_type": "stream",
     "text": [
      "Feature:[Topic1]\n",
      "Score: [3.43]\n",
      " #of positive sentences:5\n",
      " #of negative sentences:0 \n",
      "Sentences:['i take my job seriously but able to see things in perspective and i m very easy going to work with', 'i would also like to add that your stay and experience is of the utmost importance to me therefore i am available before the booking and during the stay to answer all your concerns and anxieties', 'for example where one would go to eat and taste the local culinary delights easy and cheap ways to travel around london this can be a daunting experience ', 'linens are provided during your stay and there is access to a fully working kitchen and laundry facilities', 'and working with the public is certainly something i look forward to and enjoy.']\n",
      "\n",
      "\n",
      "Feature:[Topic2]\n",
      "Score: [4.716]\n",
      " #of positive sentences:6\n",
      " #of negative sentences:0 \n",
      "Sentences:['i take my job seriously but able to see things in perspective and i m very easy going to work with', 'i am an optimist rather than pessimist and cope well when the going gets tough i am also very good at finding solutions to problems', 'i would also like to add that your stay and experience is of the utmost importance to me therefore i am available before the booking and during the stay to answer all your concerns and anxieties', 'linens are provided during your stay and there is access to a fully working kitchen and laundry facilities', ' i believe the customer is central to everything i do', 'and working with the public is certainly something i look forward to and enjoy.']\n",
      "\n",
      "\n",
      "Feature:[Topic3]\n",
      "Score: [3.001]\n",
      " #of positive sentences:5\n",
      " #of negative sentences:0 \n",
      "Sentences:['i am an optimist rather than pessimist and cope well when the going gets tough i am also very good at finding solutions to problems', 'i would also like to add that your stay and experience is of the utmost importance to me therefore i am available before the booking and during the stay to answer all your concerns and anxieties', 'for example where one would go to eat and taste the local culinary delights easy and cheap ways to travel around london this can be a daunting experience ', ' a little about the apartments houses and the rooms that you will stay in', 'linens are provided during your stay and there is access to a fully working kitchen and laundry facilities']\n",
      "\n",
      "\n",
      "Feature:[Topic4]\n",
      "Score: [6.002]\n",
      " #of positive sentences:7\n",
      " #of negative sentences:0 \n",
      "Sentences:['i would describe myself as a very determined and highly motivated person', 'i take my job seriously but able to see things in perspective and i m very easy going to work with', 'i am an optimist rather than pessimist and cope well when the going gets tough i am also very good at finding solutions to problems', 'above all i would like to say i relish a challenge', 'i would also like to add that your stay and experience is of the utmost importance to me therefore i am available before the booking and during the stay to answer all your concerns and anxieties', 'for example where one would go to eat and taste the local culinary delights easy and cheap ways to travel around london this can be a daunting experience ', 'and working with the public is certainly something i look forward to and enjoy.']\n",
      "\n",
      "\n",
      "Feature:[Deontology]\n",
      "Score: [1.714]\n",
      " #of positive sentences:4\n",
      " #of negative sentences:0 \n",
      "Sentences:['what is my customer service philosophy', ' i believe the customer is central to everything i do', 'i therefore consequently attach a lot of importance to customer service', 'i believe i have strong customer service skills ']\n",
      "\n",
      "\n",
      "Feature:[Consequentialism]\n",
      "Score: [0.857]\n",
      " #of positive sentences:2\n",
      " #of negative sentences:0 \n",
      "Sentences:['firstly there are no hidden charges for the use of any utilities gas electric water internet ', 'i therefore consequently attach a lot of importance to customer service']\n",
      "\n",
      "\n",
      " Progress 20.0000%\n",
      "\n",
      "\n",
      "\n",
      "Feature:[Topic1]\n",
      "Score: [2.232]\n",
      " #of positive sentences:2\n",
      " #of negative sentences:0 \n",
      "Sentences:['t a real estate has adopted the principle of gaining absolute customer satisfaction with the management and working understanding it has developed and applied with the experience gained in the real estate sector since its establishment in ', 'our company has adopted values such as change efficiency customer orientation as corporate culture in all areas and periods of its working activities and continues its services knowing that the secret of its success lies in managing these values']\n",
      "\n",
      "\n",
      "Feature:[Topic2]\n",
      "Score: [2.232]\n",
      " #of positive sentences:3\n",
      " #of negative sentences:0 \n",
      "Sentences:['t a real estate has adopted the principle of gaining absolute customer satisfaction with the management and working understanding it has developed and applied with the experience gained in the real estate sector since its establishment in ', 'our company has adopted values such as change efficiency customer orientation as corporate culture in all areas and periods of its working activities and continues its services knowing that the secret of its success lies in managing these values', 't a real estate together with its employees aims to ensure healthy development and to provide services at universal quality and standards by ensuring the satisfaction of its customers']\n",
      "\n",
      "\n",
      "Feature:[Topic3]\n",
      "Score: [0.558]\n",
      " #of positive sentences:1\n",
      " #of negative sentences:0 \n",
      "Sentences:['our company has adopted values such as change efficiency customer orientation as corporate culture in all areas and periods of its working activities and continues its services knowing that the secret of its success lies in managing these values']\n",
      "\n",
      "\n",
      "Feature:[Topic4]\n",
      "Score: [2.232]\n",
      " #of positive sentences:4\n",
      " #of negative sentences:0 \n",
      "Sentences:['as of now t a real estate has brought to the fore its customer oriented marketing approach with its separate offices in istanbul kyrenia and munich and more than twenty domestic and foreign personnel', 'our company has determined its service strategies that it started with an understanding of trust and quality in line with this goal', 't a real estate together with its employees aims to ensure healthy development and to provide services at universal quality and standards by ensuring the satisfaction of its customers', 'in this way it aims to be a symbol of reliability continuity and respectability for its customers.']\n",
      "\n",
      "\n",
      "Feature:[Deontology]\n",
      "Score: [3.906]\n",
      " #of positive sentences:5\n",
      " #of negative sentences:0 \n",
      "Sentences:['t a real estate has adopted the principle of gaining absolute customer satisfaction with the management and working understanding it has developed and applied with the experience gained in the real estate sector since its establishment in ', 'our company has adopted values such as change efficiency customer orientation as corporate culture in all areas and periods of its working activities and continues its services knowing that the secret of its success lies in managing these values', 'as of now t a real estate has brought to the fore its customer oriented marketing approach with its separate offices in istanbul kyrenia and munich and more than twenty domestic and foreign personnel', 't a real estate together with its employees aims to ensure healthy development and to provide services at universal quality and standards by ensuring the satisfaction of its customers', 'in this way it aims to be a symbol of reliability continuity and respectability for its customers.']\n",
      "\n",
      "\n",
      "Feature:[Consequentialism]\n",
      "Score: [2.232]\n",
      " #of positive sentences:3\n",
      " #of negative sentences:0 \n",
      "Sentences:['t a real estate has adopted the principle of gaining absolute customer satisfaction with the management and working understanding it has developed and applied with the experience gained in the real estate sector since its establishment in ', 'our company has adopted values such as change efficiency customer orientation as corporate culture in all areas and periods of its working activities and continues its services knowing that the secret of its success lies in managing these values', 't a real estate together with its employees aims to ensure healthy development and to provide services at universal quality and standards by ensuring the satisfaction of its customers']\n",
      "\n",
      "\n",
      " Progress 40.0000%\n",
      "\n",
      "\n",
      "\n"
     ]
    },
    {
     "name": "stderr",
     "output_type": "stream",
     "text": [
      "Token indices sequence length is longer than the specified maximum sequence length for this model (627 > 512). Running this sequence through the model will result in indexing errors\n"
     ]
    },
    {
     "name": "stdout",
     "output_type": "stream",
     "text": [
      "index out of range in self\n",
      "Feature:[Topic1]\n",
      "Score: [2.219]\n",
      " #of positive sentences:6\n",
      " #of negative sentences:0 \n",
      "Sentences:['i enjoy kayaking hiking and people watch yep', 'i ve traveled throughout europe and lived in the caribbean for several years', 'i spend most of my free time working with at risk youth serve as a mentor to black and hispanic high school girls', 'and because i cannot get enough i volunteer my time at non profit organizations that invest in preparing women who have been recently incarcerated with the necessary skills that will help them to reintegrate in the work place and in society', 'security cameras are located in shared spaces throughout the building for residents safety', 'always available via text or call.']\n",
      "\n",
      "\n",
      "Feature:[Topic2]\n",
      "Score: [3.878]\n",
      " #of positive sentences:5\n",
      " #of negative sentences:4 \n",
      "Sentences:[' that s a thing ', 'with that said i do not welcome guests with dogs or any type of animals in my home', 'i spend most of my free time working with at risk youth serve as a mentor to black and hispanic high school girls', 'and because i cannot get enough i volunteer my time at non profit organizations that invest in preparing women who have been recently incarcerated with the necessary skills that will help them to reintegrate in the work place and in society', 'guest access i personally check in and out all my guests and do not offer self check in', 'if you reserved my space you need to be an occupant', 'this is a quiet neighborhood and closely watched community i will expect courteous adult behavior from my guests', 'to protect residents and adhere to new york state and condominium policy i will need to inform my management company', 'always available via text or call.']\n",
      "\n",
      "\n",
      "Feature:[Topic3]\n",
      "Score: [5.825]\n",
      " #of positive sentences:6\n",
      " #of negative sentences:3 \n",
      "Sentences:['house rules ', 'guest access i personally check in and out all my guests and do not offer self check in', 'if you reserved my space you need to be an occupant', 'the space this is a private one bedroom apartment open kitchen and living room space', 'clean and spacious bathroom and bedroom with a private balcony', 'free parking on street digital tv channels and high speed wifii', 'this is a quiet neighborhood and closely watched community i will expect courteous adult behavior from my guests', 'security cameras are located in shared spaces throughout the building for residents safety', 'there are no cameras in my apartment unit']\n",
      "\n",
      "\n",
      "Feature:[Topic4]\n",
      "Score: [1.942]\n",
      " #of positive sentences:5\n",
      " #of negative sentences:1 \n",
      "Sentences:['i enjoy kayaking hiking and people watch yep', 'guest access i personally check in and out all my guests and do not offer self check in', 'clean and spacious bathroom and bedroom with a private balcony', 'this is a quiet neighborhood and closely watched community i will expect courteous adult behavior from my guests', 'the key is respecting our neighbors and not play loud music after pm', 'always available via text or call.']\n",
      "\n",
      "\n",
      "Feature:[Deontology]\n",
      "Score: [1.385]\n",
      " #of positive sentences:2\n",
      " #of negative sentences:3 \n",
      "Sentences:['and because i cannot get enough i volunteer my time at non profit organizations that invest in preparing women who have been recently incarcerated with the necessary skills that will help them to reintegrate in the work place and in society', 'house rules ', 'loud noise and disturbing neighbors not permitted', 'no animals are permitted', 'to protect residents and adhere to new york state and condominium policy i will need to inform my management company']\n",
      "\n",
      "\n",
      "Feature:[Consequentialism]\n",
      "Score: [0.277]\n",
      " #of positive sentences:1\n",
      " #of negative sentences:0 \n",
      "Sentences:['and because i cannot get enough i volunteer my time at non profit organizations that invest in preparing women who have been recently incarcerated with the necessary skills that will help them to reintegrate in the work place and in society']\n",
      "\n",
      "\n",
      " Progress 80.0000%\n",
      "\n",
      "\n",
      "\n",
      "Feature:[Topic1]\n",
      "Score: [3.61]\n",
      " #of positive sentences:2\n",
      " #of negative sentences:1 \n",
      "Sentences:['i love to travel explore and meet people around the world', 'i am looking for guests who are friendly easy going and respectful', 'i respect religious freedom however my place will not cater for any special religious worship or practices']\n",
      "\n",
      "\n",
      "Feature:[Topic2]\n",
      "Score: [6.017]\n",
      " #of positive sentences:4\n",
      " #of negative sentences:1 \n",
      "Sentences:['i love architecture and continuously think of new ways to offer a home feeling to my guests', 'i turn my guests into friends so i know the key ingredients of a stay', 'i am looking for guests who are friendly easy going and respectful', 'i treat my guests like long lost friends so expect a warm welcome from me when you check in', 'i will also not cater any rude guests guests with hotel expectations and guests who do not agree with my house rules']\n",
      "\n",
      "\n",
      "Feature:[Topic3]\n",
      "Score: [2.407]\n",
      " #of positive sentences:2\n",
      " #of negative sentences:1 \n",
      "Sentences:['i love architecture and continuously think of new ways to offer a home feeling to my guests', 'your safety security and comfort are my top priorities so once your reservation is accepted rest assured you are in the safest hands', 'i will also not cater any rude guests guests with hotel expectations and guests who do not agree with my house rules']\n",
      "\n",
      "\n",
      "Feature:[Topic4]\n",
      "Score: [4.814]\n",
      " #of positive sentences:3\n",
      " #of negative sentences:1 \n",
      "Sentences:['i love to travel explore and meet people around the world', 'i am looking for guests who are friendly easy going and respectful', 'i treat my guests like long lost friends so expect a warm welcome from me when you check in', 'i respect religious freedom however my place will not cater for any special religious worship or practices']\n",
      "\n",
      "\n",
      "Feature:[Deontology]\n",
      "Score: [-1.203]\n",
      " #of positive sentences:0\n",
      " #of negative sentences:2 \n",
      "Sentences:['i respect religious freedom however my place will not cater for any special religious worship or practices', 'i will also not cater any rude guests guests with hotel expectations and guests who do not agree with my house rules']\n",
      "\n",
      "\n",
      " Progress 100.0000%\n",
      "\n",
      "\n",
      "\n"
     ]
    }
   ],
   "source": [
    "FM, TS, FP, FN = pofMeM(doc)"
   ]
  }
 ],
 "metadata": {
  "kernelspec": {
   "display_name": "Python 3",
   "language": "python",
   "name": "python3"
  },
  "language_info": {
   "codemirror_mode": {
    "name": "ipython",
    "version": 3
   },
   "file_extension": ".py",
   "mimetype": "text/x-python",
   "name": "python",
   "nbconvert_exporter": "python",
   "pygments_lexer": "ipython3",
   "version": "3.6.12"
  }
 },
 "nbformat": 4,
 "nbformat_minor": 4
}
